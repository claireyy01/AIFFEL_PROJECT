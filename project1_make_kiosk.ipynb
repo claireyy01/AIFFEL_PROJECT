{
 "cells": [
  {
   "cell_type": "markdown",
   "id": "ef32290f",
   "metadata": {},
   "source": [
    "# 키오스크 만들기"
   ]
  },
  {
   "cell_type": "markdown",
   "id": "589836b1",
   "metadata": {},
   "source": [
    "---"
   ]
  },
  {
   "cell_type": "markdown",
   "id": "3204d40c",
   "metadata": {},
   "source": [
    "## 목차   <br>\n",
    "\n",
    "### 코드 설계   <br>\n",
    "1. Kiosk 클래스를 생성  <br>\n",
    "2. 메뉴 출력 메서드   <br>\n",
    "3. 주문 메서드\n",
    "    - 주문 프로세스 : 메뉴 선택, 선택한 메뉴와 가격 보여주기, 온도 속성 선택 등  <br>\n",
    "    - 추가 주문   <br>\n",
    "4. 지불   <br>\n",
    "5. 주문서 출력  <br>\n",
    "6. 메서드 차례대로 호출하고 주문표까지 출력되는지 확인  <br>\n",
    "7. 최종 완성 코드  <br>\n",
    "\n",
    "### 회고  <br>\n",
    "8. 회고"
   ]
  },
  {
   "cell_type": "markdown",
   "id": "cea04191",
   "metadata": {},
   "source": [
    "---"
   ]
  },
  {
   "cell_type": "markdown",
   "id": "cd378ad7",
   "metadata": {},
   "source": [
    "### 1. Kiosk 클래스 생성 <br>\n",
    "**a. 키오스크에 필요한 구성 요소를 파악한다.** <br>\n",
    "* 필요한 변수\n",
    "    - 주문 메뉴 : 커피 메뉴, 논커피 메뉴\n",
    "    - 주문 금액\n",
    "    - HOT or ICE (온도 속성)"
   ]
  },
  {
   "cell_type": "code",
   "execution_count": 10,
   "id": "15e6469e",
   "metadata": {},
   "outputs": [],
   "source": [
    "# 전체 메뉴와 가격은 아래와 같다.\n",
    "\n",
    "menu = ['americano', 'latte', 'mocha', 'yuza_tea', 'green_tea', 'choco_latte']\n",
    "price = [2000, 3000, 3000, 2500, 2500, 3000]\n",
    "\n",
    "# 커피 메뉴는 [0:3], 논커피 메뉴는 [3:]으로 인덱싱하여 구분이 가능하다.\n",
    "# 커피 메뉴 가격과 논커피 메뉴 가격도 메뉴와 동일하게 인덱싱하여 구분이 가능하다."
   ]
  },
  {
   "cell_type": "markdown",
   "id": "abcb8a07",
   "metadata": {},
   "source": [
    "**b. Kiosk 클래스를 생성한다.**"
   ]
  },
  {
   "cell_type": "code",
   "execution_count": 16,
   "id": "3bde9b14",
   "metadata": {},
   "outputs": [
    {
     "data": {
      "text/plain": [
       "[2000, 3000, 3000, 2500, 2500, 3000]"
      ]
     },
     "execution_count": 16,
     "metadata": {},
     "output_type": "execute_result"
    }
   ],
   "source": [
    "class Kiosk:\n",
    "    def __init__(self):    # 생성자 함수\n",
    "        self.menu = ['americano', 'latte', 'mocha', 'yuza_tea', 'green_tea', 'choco_latte']   # 메뉴 속성 = 메뉴 속성값 리스트\n",
    "        self.price = [2000, 3000, 3000, 2500, 2500, 3000]                                     # 가격 속성 = 가격 속성값 리스트\n",
    "\n",
    "# 클래스가 잘 만들어졌는지 속성을 출력하여 확인        \n",
    "a = Kiosk()  # 객체를 생성\n",
    "a.menu  # 객체 속성을 출력\n",
    "a.price"
   ]
  },
  {
   "cell_type": "markdown",
   "id": "87630e5e",
   "metadata": {},
   "source": [
    "### 2. 메뉴 출력 메서드 \n",
    "<br>\n",
    "고객이 키오스크에서 주문하기 위해서는 가장 먼저 메뉴 목록 화면을 출력해주어야 한다."
   ]
  },
  {
   "cell_type": "code",
   "execution_count": 17,
   "id": "37fa9e04",
   "metadata": {},
   "outputs": [],
   "source": [
    "class Kiosk:\n",
    "    def __init__(self):  \n",
    "        self.menu = ['americano', 'latte', 'mocha', 'yuza_tea', 'green_tea', 'choco_latte'] \n",
    "        self.price = [2000, 3000, 3000, 2500, 2500, 3000]                                   \n",
    "\n",
    "# 메뉴 출력 메서드\n",
    "    def menu_print(self):\n",
    "        for i in range(len(self.menu)):   # for문을 활용하여 self.menu 리스트 요소 만큼을 범위로 설정 \n",
    "            print(i+1, self.menu[i], ' : ', self.price[i], '원')    # 메뉴와 가격을 함께 출력"
   ]
  },
  {
   "cell_type": "markdown",
   "id": "4fd3149f",
   "metadata": {},
   "source": [
    "### 3. 주문 메서드   <br>\n",
    "\n",
    "**a. 주문하기**  <br>\n",
    "* 주문할 음료의 번호를 입력 받기 <br>\n",
    "* 번호로 선택한 음료의 이름과 가격을 출력해주기 <br>\n",
    "* HOT 또는 ICE 중 원하는 온도 속성을 입력 받기 <br>\n",
    "* 음료의 번호를 잘못 입력할 경우를 대비한 예외 처리 <br>\n",
    "\n",
    "**b. 추가 주문하기** <br>\n",
    "* 음료를 추가로 더 주문할 경우를 대비\n",
    "* 추가로 주문할 경우 앞선 과정과 동일하게 진행 <br>\n",
    "* 추가 주문을 하지 않고 주문 금액을 지불하려면 0을 입력 받기 <br>"
   ]
  },
  {
   "cell_type": "code",
   "execution_count": 24,
   "id": "d1433eca",
   "metadata": {},
   "outputs": [],
   "source": [
    "# 주문 메서드\n",
    "def menu_select(self):\n",
    "    print()     # 줄 바꿈\n",
    "    n = int(input('음료의 번호를 입력하세요 : '))     # 음료 메뉴를 번호로 입력 받기 : input()은 str으로 값이 반환되므로 int로 변환해주기\n",
    "    self.price_sum = self.price[n-1]     # 선택한 음료의 가격 (고객이 보는 메뉴의 넘버링은 1부터 시작되지만 인덱스는 0부터 시작되므로 -1 해주기)\n",
    "\n",
    "    # 음료 온도 속성값 받기 : Hot or ICE?\n",
    "    t = 0\n",
    "    while t != 1 and t != 2:    # while문을 활용하여 1(HOT)이나 2(ICE)를 입력할 때까지 물어보기. 그래야 다음 단계로 넘어갈 수 있다.\n",
    "        t = int(input(\"HOT 음료는 1을, ICE 음료는 2를 입력하세요 : \"))  \n",
    "\n",
    "        if t == 1 :             \n",
    "            self.temp = 'HOT'\n",
    "        elif t == 2 : \n",
    "            self.temp = 'ICE'\n",
    "        else:                      # 온도 속성을 입력하지 않은 경우 입력하도록 가이드하는 문장을 출력해주기.\n",
    "            print('1과 2 중 하나를 입력하세요.\\n')\n",
    "\n",
    "    print('주문 음료', self.temp, self.menu[n-1], ':', self.price[n-1], '원')  # 온도 속성, 메뉴, 가격을 포함한 주문 내역 보여주기 \n",
    "    \n",
    "    # 추가 주문할 메뉴 선택                        \n",
    "    while n != 0 :     # 지불(0)을 선택하기 전까지 추가 주문을 받을 수 있어야 하므로 주문 받는 과정 반복하기 \n",
    "        print()        # 줄 바꿈\n",
    "        n = int(input('추가 주문은 음료의 번호를, 지불은 0을 입력하세요 : '))  # 음료 번호 또는 지불 번호 입력 받기\n",
    "\n",
    "        # 추가 음료를 주문하는 경우\n",
    "        if n > 0 and n < len(self.menu) + 1:    \n",
    "            # 추가 음료 온도\n",
    "            t = 0\n",
    "            while t != 1 and t != 2:    \n",
    "                t = int(input(\"HOT 음료는 1을, ICE 음료는 2를 입력하세요 : \"))\n",
    "                if t == 1 :\n",
    "                    self.temp = 'HOT'\n",
    "                elif t == 2 : \n",
    "                    self.temp = 'ICE'\n",
    "                else:\n",
    "                    print('1과 2 중 하나를 입력하세요.\\n')\n",
    "            self.order_price.append(self.price[n-1])    # 추가 음료의 가격을 가격 리스트에 추가 -> 생성자 함수에 최종 주문 가격을 self.order_price로 반영해주기\n",
    "            self.order_menu.append(self.temp + ' ' + self.menu[n-1])    # 추가 메뉴를 주문 리스트에 추가 -> 생성자 함수에 최종 주문 메뉴를 self.order_menu로 반영해주기     \n",
    "            self.price_sum += self.price[n-1]     # 합계 금액 : 처음 주문한 메뉴의 가격에 추가 주문한 가격을 추가\n",
    "\n",
    "            print('추가 주문 음료', self.temp, self.menu[n-1], ':', self.price[n-1], '원\\n', '합계 :', self.price_sum, '원')  # 추가 주문 메뉴 정보와 가격 합계 출력\n",
    "\n",
    "        # 추가 주문을 하지 않는 경우\n",
    "        else :            \n",
    "            if n == 0 :   # 지불을 입력하면\n",
    "                print(\"주문이 완료되었습니다.\")\n",
    "            else :        # 없는 번호를 입력할 때\n",
    "                print('없는 메뉴입니다.')"
   ]
  },
  {
   "cell_type": "code",
   "execution_count": 26,
   "id": "0c219eac",
   "metadata": {},
   "outputs": [],
   "source": [
    "# 생성자 함수에 최종 주문 메뉴, 가격 리스트 반영해주기\n",
    "\n",
    "class Kiosk:\n",
    "    \n",
    "    def __init__(self):\n",
    "        self.menu = ['americano', 'latte', 'mocha', 'yuza_tea', 'green_tea', 'choco_latte']\n",
    "        self.price = [2000, 3000, 3000, 2500, 2500, 3000]\n",
    "        self.order_menu = []  # 최종 주문 리스트 반영\n",
    "        self.order_price = []   # 최종 가격 리스트 반영"
   ]
  },
  {
   "cell_type": "markdown",
   "id": "a8f9a452",
   "metadata": {},
   "source": [
    "### 4. 지불 메서드 <br>\n",
    "\n",
    "- 결제를 하기 위한 주문 총 합계 금액을 출력해주기 <br>\n",
    "- 결제 수단을 1(현금), 2(카드)로 입력 받기 <br>\n",
    "- 결제 수단에 따라 1은 '직원을 호출하겠습니다.'를, 2는 'IC칩 방향에 맞게 카드를 꽂아주세요.'를 출력하여 결제 가이드 해주기 <br>\n",
    "- 이외의 경우는 '다시 결제를 시도해주세요.'를 출력하여 결제 가이드 해주기"
   ]
  },
  {
   "cell_type": "code",
   "execution_count": 29,
   "id": "d496cdab",
   "metadata": {},
   "outputs": [],
   "source": [
    "# 지불\n",
    "def pay(self):\n",
    "    # 결제할 합계 금액 출력해주기\n",
    "    print(f'총 합계 금액은 {self.price_sum}원 입니다.')\n",
    "    self.pay_method = 0   #초기값 설정\n",
    "    while self.pay_method != 1 and self.pay_method != 2:      # 현금 결제(1) 또는 카드 결제(2)중 결제수단을 입력할 때까지 while문으로 반복\n",
    "        self.pay_method = int(input(\"현금 결제는 1을, 카드 결제는 2를 입력하세요 : \"))\n",
    "        if self.pay_method == 1 :\n",
    "            print('직원을 호출하겠습니다.')\n",
    "        elif self.pay_method == 2 :\n",
    "            print('IC칩 방향에 맞게 카드를 꽂아주세요.')\n",
    "        else:\n",
    "            print('다시 결제를 시도해주세요.')"
   ]
  },
  {
   "cell_type": "markdown",
   "id": "6da56d8e",
   "metadata": {},
   "source": [
    "### 5. 주문서 출력 메서드"
   ]
  },
  {
   "cell_type": "code",
   "execution_count": 31,
   "id": "caaeea15",
   "metadata": {},
   "outputs": [],
   "source": [
    "# 주문서 출력 \n",
    "def table(self):\n",
    "    # 주문서 외곽(주문 내역 상단)\n",
    "    outline1 = '⟝' + '-' * 30 + '⟞'\n",
    "    outline2 = '|' + ' ' * 31 + '|'\n",
    "\n",
    "    # 주문서 외곽 출력(주문 내역 상단)\n",
    "    print(outline1)\n",
    "    for i in range(5):\n",
    "        print(outline2)\n",
    "\n",
    "    # 주문 상품명과 해당 금액\n",
    "    for i in range(len(self.order_menu)):\n",
    "        print(self.order_menu[i], ' : ', self.order_price[i])\n",
    "\n",
    "    # 합계 금액\n",
    "    print('합계 금액 :', self.price_sum)\n",
    "\n",
    "    # 외곽(주문 내역 하단)\n",
    "    for i in range(5):\n",
    "        print(outline2)\n",
    "    print(outline1)"
   ]
  },
  {
   "cell_type": "markdown",
   "id": "519fcc08",
   "metadata": {},
   "source": [
    "### 6. 메서드 차례대로 호출하고 주문표까지 출력되는지 확인"
   ]
  },
  {
   "cell_type": "code",
   "execution_count": 32,
   "id": "3ad474c6",
   "metadata": {},
   "outputs": [
    {
     "name": "stdout",
     "output_type": "stream",
     "text": [
      "1 americano : 2000 원\n",
      "2 latte : 3000 원\n",
      "3 mocha : 3000 원\n",
      "4 yuza_tea : 2500 원\n",
      "5 green_tea : 2500 원\n",
      "6 choco_latte : 3000 원\n",
      "\n",
      "음료의 번호를 입력하세요 : 1\n",
      "HOT 음료는 1을, ICE 음료는 2를 입력하세요 : 1\n",
      "주문 음료 HOT americano : 2000 원\n",
      "\n",
      "추가 주문은 음료의 번호를, 지불은 0을 입력하세요 : 2\n",
      "HOT 음료는 1을, ICE 음료는 2를 입력하세요 : 1\n",
      "추가 주문 음료 HOT latte : 3000 원\n",
      " 합계 : 5000 원\n",
      "\n",
      "추가 주문은 음료의 번호를, 지불은 0을 입력하세요 : 3\n",
      "HOT 음료는 1을, ICE 음료는 2를 입력하세요 : 1\n",
      "추가 주문 음료 HOT mocha : 3000 원\n",
      " 합계 : 8000 원\n",
      "\n",
      "추가 주문은 음료의 번호를, 지불은 0을 입력하세요 : 4\n",
      "HOT 음료는 1을, ICE 음료는 2를 입력하세요 : 1\n",
      "추가 주문 음료 HOT yuza_tea : 2500 원\n",
      " 합계 : 10500 원\n",
      "\n",
      "추가 주문은 음료의 번호를, 지불은 0을 입력하세요 : 5\n",
      "HOT 음료는 1을, ICE 음료는 2를 입력하세요 : 1\n",
      "추가 주문 음료 HOT green_tea : 2500 원\n",
      " 합계 : 13000 원\n",
      "\n",
      "추가 주문은 음료의 번호를, 지불은 0을 입력하세요 : 0\n",
      "주문이 완료되었습니다.\n",
      "총 합계 금액은 13000원 입니다.\n",
      "현금 결제는 1을, 카드 결제는 2를 입력하세요 : 1\n",
      "직원을 호출하겠습니다.\n",
      "⟝------------------------------⟞\n",
      "|                               |\n",
      "|                               |\n",
      "|                               |\n",
      "|                               |\n",
      "|                               |\n",
      "HOT latte  :  3000\n",
      "HOT mocha  :  3000\n",
      "HOT yuza_tea  :  2500\n",
      "HOT green_tea  :  2500\n",
      "합계 금액 : 13000\n",
      "|                               |\n",
      "|                               |\n",
      "|                               |\n",
      "|                               |\n",
      "|                               |\n",
      "⟝------------------------------⟞\n"
     ]
    }
   ],
   "source": [
    "a = Kiosk()  # 객체 생성 \n",
    "a.menu_print()  # 메뉴 출력\n",
    "a.menu_select()  # 주문\n",
    "a.pay()  # 지불\n",
    "a.table()  # 주문표 출력"
   ]
  },
  {
   "cell_type": "markdown",
   "id": "41cee600",
   "metadata": {},
   "source": [
    "### 7. 최종 완성 코드"
   ]
  },
  {
   "cell_type": "code",
   "execution_count": 33,
   "id": "f72bf05a",
   "metadata": {},
   "outputs": [
    {
     "name": "stdout",
     "output_type": "stream",
     "text": [
      "1 americano : 2000 원\n",
      "2 latte : 3000 원\n",
      "3 mocha : 3000 원\n",
      "4 yuza_tea : 2500 원\n",
      "5 green_tea : 2500 원\n",
      "6 choco_latte : 3000 원\n",
      "\n",
      "음료의 번호를 입력하세요 : 1\n",
      "HOT 음료는 1을, ICE 음료는 2를 입력하세요 : 2\n",
      "주문 음료 ICE americano : 2000 원\n",
      "\n",
      "추가 주문은 음료의 번호를, 지불은 0을 입력하세요 : 2\n",
      "HOT 음료는 1을, ICE 음료는 2를 입력하세요 : 2\n",
      "추가 주문 음료 ICE latte : 3000 원\n",
      " 합계 : 5000 원\n",
      "\n",
      "추가 주문은 음료의 번호를, 지불은 0을 입력하세요 : 3\n",
      "HOT 음료는 1을, ICE 음료는 2를 입력하세요 : 1\n",
      "추가 주문 음료 HOT mocha : 3000 원\n",
      " 합계 : 8000 원\n",
      "\n",
      "추가 주문은 음료의 번호를, 지불은 0을 입력하세요 : 5\n",
      "HOT 음료는 1을, ICE 음료는 2를 입력하세요 : 1\n",
      "추가 주문 음료 HOT green_tea : 2500 원\n",
      " 합계 : 10500 원\n",
      "\n",
      "추가 주문은 음료의 번호를, 지불은 0을 입력하세요 : 6\n",
      "HOT 음료는 1을, ICE 음료는 2를 입력하세요 : 2\n",
      "추가 주문 음료 ICE choco_latte : 3000 원\n",
      " 합계 : 13500 원\n",
      "\n",
      "추가 주문은 음료의 번호를, 지불은 0을 입력하세요 : 0\n",
      "주문이 완료되었습니다.\n",
      "총 합계 금액은 13500원 입니다.\n",
      "현금 결제는 1을, 카드 결제는 2를 입력하세요 : 2\n",
      "IC칩 방향에 맞게 카드를 꽂아주세요.\n",
      "⟝------------------------------⟞\n",
      "|                               |\n",
      "|                               |\n",
      "|                               |\n",
      "|                               |\n",
      "|                               |\n",
      "ICE latte  :  3000\n",
      "HOT mocha  :  3000\n",
      "HOT green_tea  :  2500\n",
      "ICE choco_latte  :  3000\n",
      "합계 금액 : 13500\n",
      "|                               |\n",
      "|                               |\n",
      "|                               |\n",
      "|                               |\n",
      "|                               |\n",
      "⟝------------------------------⟞\n"
     ]
    }
   ],
   "source": [
    "class Kiosk:\n",
    "    \n",
    "    def __init__(self):\n",
    "        self.menu = ['americano', 'latte', 'mocha', 'yuza_tea', 'green_tea', 'choco_latte']\n",
    "        self.price = [2000, 3000, 3000, 2500, 2500, 3000]\n",
    "        self.order_menu = []  # 주문 리스트\n",
    "        self.order_price = []   # 가격 리스트\n",
    "\n",
    "    # 메뉴 출력 메서드\n",
    "    def menu_print(self):\n",
    "        for i in range(len(self.menu)):\n",
    "            print(i+1, self.menu[i], ':', self.price[i], '원')\n",
    "\n",
    "    # 주문 메서드\n",
    "    def menu_select(self):\n",
    "        print()     # 줄 바꿈\n",
    "        n = int(input('음료의 번호를 입력하세요 : '))     # 음료 종류(메뉴) 선택\n",
    "        self.price_sum = self.price[n-1]     # 선택한 음료의 가격\n",
    "\n",
    "        # 음료 온도 물어보기 : Hot or ICE?\n",
    "        t = 0\n",
    "        while t != 1 and t != 2:    # 1이나 2를 입력할 때까지 물어보기\n",
    "            t = int(input(\"HOT 음료는 1을, ICE 음료는 2를 입력하세요 : \"))\n",
    "\n",
    "            if t == 1 :\n",
    "                self.temp = 'HOT'\n",
    "            elif t == 2 : \n",
    "                self.temp = 'ICE'\n",
    "            else:\n",
    "                print('1과 2 중 하나를 입력하세요.\\n')\n",
    "\n",
    "        print('주문 음료', self.temp, self.menu[n-1], ':', self.price[n-1], '원')  # 온도 속성 포함한 주문 내역 보여주기 \n",
    "\n",
    "        # 추가 주문\n",
    "        # 음료 종류(메뉴) 선택                          \n",
    "        while n != 0 :     # 지불(0)을 선택하기 전까지 반복하기 \n",
    "            print()        # 줄 바꾸면서\n",
    "            n = int(input('추가 주문은 음료의 번호를, 지불은 0을 입력하세요 : '))  # 음료 번호 입력\n",
    "\n",
    "            if n > 0 and n < len(self.menu) + 1: \n",
    "                # 추가 음료 온도\n",
    "                t = 0\n",
    "                while t != 1 and t != 2:    \n",
    "                    t = int(input(\"HOT 음료는 1을, ICE 음료는 2를 입력하세요 : \"))\n",
    "                    if t == 1 :\n",
    "                        self.temp = 'HOT'\n",
    "                    elif t == 2 : \n",
    "                        self.temp = 'ICE'\n",
    "                    else:\n",
    "                        print('1과 2 중 하나를 입력하세요.\\n')\n",
    "                self.order_price.append(self.price[n-1])    # 가격 리스트에 추가\n",
    "                self.order_menu.append(self.temp + ' ' + self.menu[n-1])    # 주문 리스트에 추가      \n",
    "                self.price_sum += self.price[n-1]     # 합계 금액\n",
    "\n",
    "                print('추가 주문 음료', self.temp, self.menu[n-1], ':', self.price[n-1], '원\\n', '합계 :', self.price_sum, '원')\n",
    "                \n",
    "            else :\n",
    "                if n == 0 :   # 지불을 입력하면\n",
    "                    print(\"주문이 완료되었습니다.\")\n",
    "                else :        # 없는 번호를 입력할 때\n",
    "                    print('없는 메뉴입니다.')\n",
    "\n",
    "    # 지불\n",
    "    def pay(self):\n",
    "        # 총 합계 금액 입력\n",
    "        print(f'총 합계 금액은 {self.price_sum}원 입니다.')\n",
    "        self.pay_method = 0\n",
    "        while self.pay_method != 1 and self.pay_method != 2:\n",
    "            self.pay_method = int(input(\"현금 결제는 1을, 카드 결제는 2를 입력하세요 : \"))\n",
    "            if self.pay_method == 1 :\n",
    "                print('직원을 호출하겠습니다.')\n",
    "            elif self.pay_method == 2 :\n",
    "                print('IC칩 방향에 맞게 카드를 꽂아주세요.')\n",
    "            else:\n",
    "                print('다시 결제를 시도해주세요.')\n",
    "\n",
    "    # 주문서 출력 \n",
    "    def table(self):\n",
    "        # 외곽\n",
    "        outline1 = '⟝' + '-' * 30 + '⟞'\n",
    "        outline2 = '|' + ' ' * 31 + '|'\n",
    "        \n",
    "        # 외곽 출력\n",
    "        print(outline1)\n",
    "        for i in range(5):\n",
    "            print(outline2)\n",
    "\n",
    "        # 주문 상품명 : 해당 금액\n",
    "        for i in range(len(self.order_menu)):\n",
    "            print(self.order_menu[i], ' : ', self.order_price[i])\n",
    "\n",
    "        # 합계 금액\n",
    "        print('합계 금액 :', self.price_sum)\n",
    "\n",
    "        # 외곽\n",
    "        for i in range(5):\n",
    "            print(outline2)\n",
    "        print(outline1)\n",
    "\n",
    "        \n",
    "a = Kiosk()  # 객체 생성 \n",
    "a.menu_print()  # 메뉴 출력\n",
    "a.menu_select()  # 주문\n",
    "a.pay()  # 지불\n",
    "a.table()  # 주문표 출력"
   ]
  },
  {
   "cell_type": "markdown",
   "id": "e5782ce4",
   "metadata": {},
   "source": [
    "### 8. 회고"
   ]
  },
  {
   "cell_type": "markdown",
   "id": "1621ef37",
   "metadata": {},
   "source": [
    "**KEEP** <br>\n",
    "    - 이전에 비해 오류를 두려워하지 않고 계속 실행시켜보며 부딪혀보고 해결해나갔다. <br>\n",
    "    - 파이썬 구문 해석 및 활용 능력, 클래스에 대한 이해가 향상되었다.  <br>\n",
    "    (ex. while문의 조건, 리스트 인덱스를 활용한 선언, 클래스와 클래스의 구성에 대한 이해 등 ) <br> <br>\n",
    "\n",
    "**PROBLEM** <br>\n",
    "    - 주문하기 메서드 내에서 첫 주문과 추가 주문을 구성해야하는데 코드 작성 시 혼동하여 계속 오류가 생겼다. <br>\n",
    "    - 비슷한 속성 명칭들로 인해 코드 작성 시 혼란스러웠다. <br> <br>\n",
    "\n",
    "**TRY** <br>\n",
    "    - 전체 구성을 잡을 때 헷갈릴 수 있는 부분은 조금 더 구체적이고 명확하게 잡아본 뒤에 코드를 작성해보자. <br>\n",
    "    - 헷갈리는 속성, 함수 명칭을 별도로 정의해두고 코드를 작성해보자"
   ]
  }
 ],
 "metadata": {
  "kernelspec": {
   "display_name": "Python 3 (ipykernel)",
   "language": "python",
   "name": "python3"
  },
  "language_info": {
   "codemirror_mode": {
    "name": "ipython",
    "version": 3
   },
   "file_extension": ".py",
   "mimetype": "text/x-python",
   "name": "python",
   "nbconvert_exporter": "python",
   "pygments_lexer": "ipython3",
   "version": "3.11.5"
  }
 },
 "nbformat": 4,
 "nbformat_minor": 5
}
