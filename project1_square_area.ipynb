{
 "cells": [
  {
   "cell_type": "markdown",
   "id": "5d693f8c",
   "metadata": {},
   "source": [
    "# 사각형 넓이 구하기"
   ]
  },
  {
   "cell_type": "markdown",
   "id": "8fb55135",
   "metadata": {},
   "source": [
    "---"
   ]
  },
  {
   "cell_type": "markdown",
   "id": "cd906849",
   "metadata": {},
   "source": [
    "## 목차\n",
    "\n",
    "1. 필요한 요소 파악과 클래스 생성\n",
    "2. 사각형 메서드 만들기 _split(), map() 활용\n",
    "3. 평행사변형과 사다리꼴 메서드 만들기\n",
    "4. 최종 완성 코드\n",
    "5. 회고"
   ]
  },
  {
   "cell_type": "markdown",
   "id": "d7f040f8",
   "metadata": {},
   "source": [
    "---"
   ]
  },
  {
   "cell_type": "markdown",
   "id": "b6bdd870",
   "metadata": {},
   "source": [
    "### 1. 필요한 요소 파악과 클래스 생성\n",
    "\n",
    "- 사각형의 종류 별로 입력 받아야 할 속성을 파악\n",
    "    - 직사각형 : 가로 * 세로\n",
    "    - 평행사변형 : 밑변 * 높이\n",
    "    - (등변)사다리꼴 : (밑변+윗변) * 높이 / 2"
   ]
  },
  {
   "cell_type": "markdown",
   "id": "a5069956",
   "metadata": {},
   "source": [
    "- 사각형 클래스 만들기"
   ]
  },
  {
   "cell_type": "code",
   "execution_count": 17,
   "id": "878161fa",
   "metadata": {},
   "outputs": [],
   "source": [
    "class Square:   # 직사각형, 평행사변형, 사다리꼴 메서드를 아우르는 Square 클래스를 생성\n",
    "    def __init__(self):  # 생성자__init__의 첫번째 매개변수는 self여야 한다. \n",
    "        self.square = int(input('넓이를 구하고 싶은 사각형의 숫자를 써주세요.\\n 1.직사각형 2.평행사변형 3.사다리꼴 \\n >>>'))  # input()은 str으로 출력하므로, 입력값을 int로 묶기\n",
    "\n",
    "        if self.square == 1:\n",
    "            print('직사각형 함수는 rect()입니다.')  # Square 클래스에 rect() 메서드를 추가\n",
    "\n",
    "        elif self.square == 2:\n",
    "            print('평행사변형 함수는 par()입니다.')  # Square 클래스에 par() 메서드를 추가 \n",
    "        \n",
    "        elif self.square == 3:\n",
    "            print('사다리꼴 함수는 trape()입니다.')  # Square 클래스에 trape() 메서드를 추가\n",
    "        \n",
    "        else:\n",
    "            print('1, 2, 3 중에서 다시 입력해주세요')"
   ]
  },
  {
   "cell_type": "markdown",
   "id": "66240012",
   "metadata": {},
   "source": [
    "### 2. 사각형 메서드 만들기 \n",
    "- 사각형 메서드 만들기\n",
    "    - split()을 이용하여 가로, 세로 길이를 한 번에 입력받기\n",
    "    - map()을 이용하여 split()함수로부터 받은 여러 값에 한 번에 int()함수를 적용하기"
   ]
  },
  {
   "cell_type": "code",
   "execution_count": 8,
   "id": "ee92640a",
   "metadata": {
    "scrolled": true
   },
   "outputs": [
    {
     "name": "stdout",
     "output_type": "stream",
     "text": [
      "가로, 세로를 입력하세요. 예시 : 가로,세로\n",
      " >>>3,5\n",
      "3 <class 'int'>\n"
     ]
    }
   ],
   "source": [
    "가로, 세로 = map(int,input('가로, 세로를 입력하세요. 예시 : 가로,세로\\n >>>').split(','))\n",
    "print(가로, type(가로))"
   ]
  },
  {
   "cell_type": "markdown",
   "id": "c740109c",
   "metadata": {},
   "source": [
    "- 사각형 메서드 "
   ]
  },
  {
   "cell_type": "code",
   "execution_count": 18,
   "id": "279f8930",
   "metadata": {},
   "outputs": [],
   "source": [
    "def rect(self):      # 사각형 메서드\n",
    "    width, vertical = map(int, input('가로, 세로를 입력하세요. 예시 : 가로,세로\\n >>>').split(','))\n",
    "    area = width * vertical     # 사각형 넓이 구하기\n",
    "    result = '직사각형의 넓이는 : ' + str(area)   # str + str 으로 두 문자형을 연결해준다.\n",
    "    return result"
   ]
  },
  {
   "cell_type": "code",
   "execution_count": 19,
   "id": "1b76f1ad",
   "metadata": {},
   "outputs": [
    {
     "name": "stdout",
     "output_type": "stream",
     "text": [
      "넓이를 구하고 싶은 사각형의 숫자를 써주세요.\n",
      " 1.직사각형 2.평행사변형 3.사다리꼴 \n",
      " >>>1\n",
      "직사각형 함수는 rect()입니다.\n"
     ]
    },
    {
     "ename": "AttributeError",
     "evalue": "'Square' object has no attribute 'rect'",
     "output_type": "error",
     "traceback": [
      "\u001b[0;31m---------------------------------------------------------------------------\u001b[0m",
      "\u001b[0;31mAttributeError\u001b[0m                            Traceback (most recent call last)",
      "Cell \u001b[0;32mIn[19], line 2\u001b[0m\n\u001b[1;32m      1\u001b[0m a \u001b[38;5;241m=\u001b[39m Square() \u001b[38;5;66;03m# 객체 만들기\u001b[39;00m\n\u001b[0;32m----> 2\u001b[0m a\u001b[38;5;241m.\u001b[39mrect()\n",
      "\u001b[0;31mAttributeError\u001b[0m: 'Square' object has no attribute 'rect'"
     ]
    }
   ],
   "source": [
    "a = Square() # 객체 만들기\n",
    "a.rect()     # rect() 메서드 써보기"
   ]
  },
  {
   "cell_type": "markdown",
   "id": "b37684be",
   "metadata": {},
   "source": [
    "### 3. 평행사변형과 사다리꼴 메서드 만들기"
   ]
  },
  {
   "cell_type": "code",
   "execution_count": 20,
   "id": "51b91721",
   "metadata": {},
   "outputs": [],
   "source": [
    "# 평행사변형 메서드\n",
    "def par(self):\n",
    "    lower, height = map(int, input('밑변, 높이를 입력하세요. 예시 : 밑변,높이/n >>>').split(','))\n",
    "    area = lower * height          # 평행사변형의 넓이\n",
    "    result = '평행사변형의 넓이는 : ' + str(area)  \n",
    "    return result\n",
    "\n",
    "# 사다리꼴 메서드\n",
    "def trape(self):\n",
    "    upperside, lowerside, vertical = map(int, input('윗변, 아랫변, 높이를 입력하세요. 예시 : 윗변,아랫변,높이/n >>>').split(','))   # 사다리꼴 넓이 구하는 공식에 맞게 3개의 요소 받기\n",
    "    area = (upperside + lowerside) * vertical / 2    # 사다리꼴의 넓이\n",
    "    result = '사다리꼴의 넓이는 : ' + str(area)\n",
    "    return result"
   ]
  },
  {
   "cell_type": "markdown",
   "id": "fed05cfa",
   "metadata": {},
   "source": [
    "### 4. 최종 완성 코드"
   ]
  },
  {
   "cell_type": "code",
   "execution_count": 31,
   "id": "aaaf7091",
   "metadata": {
    "scrolled": false
   },
   "outputs": [
    {
     "name": "stdout",
     "output_type": "stream",
     "text": [
      "넓이를 구하고 싶은 사각형의 숫자를 써주세요.\n",
      " 1.직사각형 2.평행사변형 3.사다리꼴 \n",
      " >>>2\n",
      "평행사변형 함수는 par()입니다.\n"
     ]
    }
   ],
   "source": [
    "class Square:\n",
    "    def __init__(self):\n",
    "        square = int(input('넓이를 구하고 싶은 사각형의 숫자를 써주세요.\\n 1.직사각형 2.평행사변형 3.사다리꼴 \\n >>>'))\n",
    "\n",
    "        if square == 1:\n",
    "            print('직사각형 함수는 rect()입니다.')\n",
    "\n",
    "        elif square == 2:\n",
    "            print('평행사변형 함수는 par()입니다.')\n",
    "        \n",
    "        elif square == 3:\n",
    "            print('사다리꼴 함수는 trape()입니다.')\n",
    "        \n",
    "        else:\n",
    "            print('1, 2, 3 중에서 다시 입력해주세요')\n",
    "\n",
    "    def rect(self):\n",
    "        width, vertical = map(int, input('가로, 세로를 입력하세요. 예시 : 가로,세로\\n >>> ').split(','))\n",
    "        area = width * vertical\n",
    "        result = '직사각형의 넓이는 : ' + str(area)\n",
    "        return result\n",
    "\n",
    "    def par(self):\n",
    "        lower, height = map(int, input('밑변, 높이를 입력하세요. 예시 : 밑변,높이\\n >>> ').split(','))\n",
    "        area = lower * height\n",
    "        result = '평행사변형의 넓이는 : ' + str(area)\n",
    "        return result\n",
    "\n",
    "    def trape(self):\n",
    "        upperside, lowerside, vertical = map(int, input('윗변, 아랫변, 높이를 입력하세요. 예시 : 윗변,아랫변,높이\\n >>> ').split(','))\n",
    "        area = (upperside + lowerside) * vertical / 2\n",
    "        result = '사다리꼴의 넓이는 : ' + str(area)\n",
    "        return result\n",
    "\n",
    "a = Square()"
   ]
  },
  {
   "cell_type": "code",
   "execution_count": 22,
   "id": "2e0ed5cb",
   "metadata": {},
   "outputs": [
    {
     "name": "stdout",
     "output_type": "stream",
     "text": [
      "가로, 세로를 입력하세요. 예시 : 가로,세로\n",
      " >>>2,3\n"
     ]
    },
    {
     "data": {
      "text/plain": [
       "'직사각형의 넓이는 : 6'"
      ]
     },
     "execution_count": 22,
     "metadata": {},
     "output_type": "execute_result"
    }
   ],
   "source": [
    "# 사각형의 넓이\n",
    "a.rect()"
   ]
  },
  {
   "cell_type": "code",
   "execution_count": 29,
   "id": "81df33fb",
   "metadata": {},
   "outputs": [
    {
     "name": "stdout",
     "output_type": "stream",
     "text": [
      "밑변, 높이를 입력하세요. 예시 : 밑변,높이\n",
      " >>> 4,5\n"
     ]
    },
    {
     "data": {
      "text/plain": [
       "'평행사변형의 넓이는 : 20'"
      ]
     },
     "execution_count": 29,
     "metadata": {},
     "output_type": "execute_result"
    }
   ],
   "source": [
    "# 평형사변형의 넓이\n",
    "a.par() "
   ]
  },
  {
   "cell_type": "code",
   "execution_count": 30,
   "id": "3e91784b",
   "metadata": {},
   "outputs": [
    {
     "name": "stdout",
     "output_type": "stream",
     "text": [
      "윗변, 아랫변, 높이를 입력하세요. 예시 : 윗변,아랫변,높이\n",
      " >>> 3,4,5\n"
     ]
    },
    {
     "data": {
      "text/plain": [
       "'사다리꼴의 넓이는 : 17.5'"
      ]
     },
     "execution_count": 30,
     "metadata": {},
     "output_type": "execute_result"
    }
   ],
   "source": [
    "# 사다리꼴의 넓이\n",
    "a.trape() "
   ]
  },
  {
   "cell_type": "markdown",
   "id": "9514505f",
   "metadata": {},
   "source": [
    "### 5. 회고"
   ]
  },
  {
   "cell_type": "markdown",
   "id": "79133c21",
   "metadata": {},
   "source": [
    "**KEEP** <br>\n",
    "    - split(), map() 함수에 대한 이해로 빠르게 적용할 수 있었다.\n",
    "\n",
    "**PROBLEM** <br>\n",
    "    - '문제를 해결하기 위해 적절한 함수를 직접, 바로 떠올릴 수 있을지?' 반신반의했다. <br>\n",
    "    - class에 대한 개념이 이해는 되었으나 스스로 작성하기는 어려울 것이라는 생각이 들었다.\n",
    "    \n",
    "**TRY** <br>\n",
    "    - 배운 파이썬 함수 개념들을 어떻게 활용할 수 있을지 고민하며 직접 코드 짜보기 <br>\n",
    "    - 온라인 상의 파이썬 문제들을 풀어보며 배운 개념은 복습하고 새로운 개념은 leraning by doing으로 습득해보기 <br>\n",
    "    - 간단한 class부터 직접 만들어보기"
   ]
  }
 ],
 "metadata": {
  "kernelspec": {
   "display_name": "Python 3 (ipykernel)",
   "language": "python",
   "name": "python3"
  },
  "language_info": {
   "codemirror_mode": {
    "name": "ipython",
    "version": 3
   },
   "file_extension": ".py",
   "mimetype": "text/x-python",
   "name": "python",
   "nbconvert_exporter": "python",
   "pygments_lexer": "ipython3",
   "version": "3.11.5"
  }
 },
 "nbformat": 4,
 "nbformat_minor": 5
}
